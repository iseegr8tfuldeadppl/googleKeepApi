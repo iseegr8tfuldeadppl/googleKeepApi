{
 "cells": [
  {
   "cell_type": "code",
   "execution_count": 2,
   "id": "b268753b-c942-45b1-b846-044cf54e540a",
   "metadata": {
    "tags": []
   },
   "outputs": [
    {
     "name": "stdout",
     "output_type": "stream",
     "text": [
      "Collecting gkeepapi\n",
      "  Using cached gkeepapi-0.14.2-py2.py3-none-any.whl (26 kB)\n",
      "Requirement already satisfied: future>=0.16.0 in c:\\users\\kream\\anaconda3\\lib\\site-packages (from gkeepapi) (0.18.3)\n",
      "Collecting gpsoauth>=1.0.2 (from gkeepapi)\n",
      "  Using cached gpsoauth-1.0.2-py3-none-any.whl (6.6 kB)\n",
      "Collecting pycryptodomex>=3.0 (from gpsoauth>=1.0.2->gkeepapi)\n",
      "  Obtaining dependency information for pycryptodomex>=3.0 from https://files.pythonhosted.org/packages/8a/db/12a08d50aa8586c2e32b2b4461b89c0de057d1c637a13ac8b785dfd55327/pycryptodomex-3.18.0-cp35-abi3-win_amd64.whl.metadata\n",
      "  Downloading pycryptodomex-3.18.0-cp35-abi3-win_amd64.whl.metadata (3.4 kB)\n",
      "Requirement already satisfied: requests>=2.0.0 in c:\\users\\kream\\anaconda3\\lib\\site-packages (from gpsoauth>=1.0.2->gkeepapi) (2.31.0)\n",
      "Requirement already satisfied: charset-normalizer<4,>=2 in c:\\users\\kream\\anaconda3\\lib\\site-packages (from requests>=2.0.0->gpsoauth>=1.0.2->gkeepapi) (2.0.4)\n",
      "Requirement already satisfied: idna<4,>=2.5 in c:\\users\\kream\\appdata\\roaming\\python\\python311\\site-packages (from requests>=2.0.0->gpsoauth>=1.0.2->gkeepapi) (2.10)\n",
      "Requirement already satisfied: urllib3<3,>=1.21.1 in c:\\users\\kream\\anaconda3\\lib\\site-packages (from requests>=2.0.0->gpsoauth>=1.0.2->gkeepapi) (1.26.16)\n",
      "Requirement already satisfied: certifi>=2017.4.17 in c:\\users\\kream\\appdata\\roaming\\python\\python311\\site-packages (from requests>=2.0.0->gpsoauth>=1.0.2->gkeepapi) (2022.12.7)\n",
      "Using cached pycryptodomex-3.18.0-cp35-abi3-win_amd64.whl (1.7 MB)\n",
      "Installing collected packages: pycryptodomex, gpsoauth, gkeepapi\n",
      "Successfully installed gkeepapi-0.14.2 gpsoauth-1.0.2 pycryptodomex-3.18.0\n"
     ]
    }
   ],
   "source": [
    "!pip install gkeepapi"
   ]
  },
  {
   "cell_type": "code",
   "execution_count": 3,
   "id": "25d9ec1e-8819-4832-b0cc-020c29aad2ae",
   "metadata": {},
   "outputs": [],
   "source": [
    "import gkeepapi\n",
    "import keyring\n",
    "import os\n",
    "import json\n",
    "from secret_values import *"
   ]
  },
  {
   "cell_type": "code",
   "execution_count": 4,
   "id": "efeaad11-b752-4036-93de-db7ea86215b3",
   "metadata": {},
   "outputs": [],
   "source": [
    "keep = gkeepapi.Keep()\n",
    "state = None"
   ]
  },
  {
   "cell_type": "code",
   "execution_count": 5,
   "id": "26a213cb-b3ca-49d6-bb82-579bc8ba2b41",
   "metadata": {},
   "outputs": [
    {
     "name": "stdout",
     "output_type": "stream",
     "text": [
      "Loading state\n"
     ]
    }
   ],
   "source": [
    "print(\"Loading state\")\n",
    "state = None\n",
    "if os.path.exists(\"state\"):\n",
    "    # Load cache\n",
    "    fh = open('state', 'r')\n",
    "    state = json.load(fh)\n",
    "    keep.restore(state)\n",
    "print(\"State loaded\")"
   ]
  },
  {
   "cell_type": "code",
   "execution_count": 6,
   "id": "5d165515-0897-4b37-9d59-520ee0c64597",
   "metadata": {},
   "outputs": [
    {
     "name": "stdout",
     "output_type": "stream",
     "text": [
      "Logging in\n"
     ]
    }
   ],
   "source": [
    "print(\"Logging in\")\n",
    "token = keyring.get_password('google-keep-token', email)\n",
    "if token is None:\n",
    "    success = keep.login(email, app_password, state=state if state is not None else None)\n",
    "\n",
    "    if success:\n",
    "        token = keep.getMasterToken()\n",
    "        keyring.set_password('google-keep-token', email, token)\n",
    "else:\n",
    "    keep.resume(email, token, state=state if state is not None else None)\n",
    "print(\"Logged in\")"
   ]
  },
  {
   "cell_type": "code",
   "execution_count": 7,
   "id": "4d555073-8e42-40a2-8bdc-22186e072ff5",
   "metadata": {},
   "outputs": [
    {
     "name": "stdout",
     "output_type": "stream",
     "text": [
      "Syncing\n",
      "Dumping Sync\n"
     ]
    }
   ],
   "source": [
    "def syncAndDump():\n",
    "    global state\n",
    "    print(\"Syncing\")\n",
    "    keep.sync()\n",
    "    \n",
    "    print(\"Dumping Sync\")\n",
    "    # Store cache\n",
    "    state = keep.dump()\n",
    "    fh = open('state', 'w')\n",
    "    json.dump(state, fh)\n",
    "    print(\"Dumped\")\n",
    "\n",
    "syncAndDump()"
   ]
  },
  {
   "cell_type": "code",
   "execution_count": 8,
   "id": "be2a5150-443e-4505-9459-c92ead5b4b4e",
   "metadata": {},
   "outputs": [],
   "source": [
    "from datetime import datetime, timedelta\n",
    "\n",
    "def getDayTitle(days_into_the_future=0):\n",
    "    tomorrow = datetime.now() + timedelta(days=days_into_the_future)\n",
    "    \n",
    "    # Convert the day and month to their corresponding string representations\n",
    "    days = ['MON', 'TUE', 'WED', 'THU', 'FRI', 'SAT', 'SUN']\n",
    "    months = ['JAN', 'FEB', 'MAR', 'APR', 'MAY', 'JUN', 'JUL', 'AUG', 'SEP', 'OCT', 'NOV', 'DEC']\n",
    "    \n",
    "    day_str = days[tomorrow.weekday()]\n",
    "    month_str = months[tomorrow.month - 1]\n",
    "    \n",
    "    tommorow_title = f\"{day_str} {tomorrow.day} {month_str}\"  \n",
    "    return tommorow_title"
   ]
  },
  {
   "cell_type": "code",
   "execution_count": 12,
   "id": "2f80aba8-abfe-4897-ad1e-635189700b87",
   "metadata": {
    "scrolled": true
   },
   "outputs": [],
   "source": [
    "# https://gkeepapi.readthedocs.io/en/latest/#caching-notes\n",
    "def clone(from_title, to_title):\n",
    "    print(f\"Cloning from: {from_title}\")\n",
    "\n",
    "    # Find by labels\n",
    "    gnotes = keep.find(labels=[keep.findLabel('daily')], archived=False, trashed=False)\n",
    "    \n",
    "    today_note = None\n",
    "    tommorow_note = None\n",
    "    \n",
    "    tommorow_found = False\n",
    "    today_found = False\n",
    "    \n",
    "    for gnote in gnotes:\n",
    "    \n",
    "        if gnote.title.lower().find(from_title.lower()) > -1:\n",
    "            print(\"found today's note\")\n",
    "            today_note = gnote\n",
    "            today_found = True\n",
    "    \n",
    "        if gnote.title.lower().find(to_title.lower()) > -1:\n",
    "            print(\"tommorow's note already exists\")\n",
    "            tommorow_note = gnote\n",
    "            tommorow_found = True\n",
    "    \n",
    "        if today_found and tommorow_found:\n",
    "            break\n",
    "\n",
    "    if not today_found:\n",
    "        print(\"Oops, couldn't find the note to clone\")\n",
    "    else:\n",
    "\n",
    "        # pre-processing: if tommorow note doesn't exist, create it\n",
    "        if not tommorow_found:\n",
    "            tommorow_note = keep.createList(to_title, [])\n",
    "            tommorow_note.pinned = True\n",
    "            tommorow_note.color = gkeepapi.node.ColorValue.Green\n",
    "            label = keep.findLabel('daily')\n",
    "            tommorow_note.labels.add(label)\n",
    "\n",
    "        \n",
    "        for today_entry in today_note.items:\n",
    "\n",
    "            # side case: if we just created tommorow's note then let's just keep filling up\n",
    "            exists_already = False\n",
    "            if tommorow_found:\n",
    "                # step 1: check if it already exists in new note, if so then don't even bother\n",
    "                for tommorow_entry in tommorow_note.items:\n",
    "                    if tommorow_entry.text == today_entry.text:\n",
    "                        \n",
    "                        # side case: if they're both indented & equal, let's make sure they r from the same parent cause we r allowing same notes if they belong to different parents\n",
    "                        if tommorow_entry.indented and today_entry.indented:\n",
    "                            if tommorow_entry.parent_item.text != today_entry.parent_item.text:\n",
    "                                continue\n",
    "                        \n",
    "                        exists_already = True\n",
    "                        break\n",
    "\n",
    "            # step 2: it doesn't exist, if same parent is in new note then append indented notes to it, otherwise just keep filling up the note\n",
    "            if not exists_already:\n",
    "                \n",
    "                        \n",
    "                if not today_entry.checked:\n",
    "\n",
    "                    if not today_entry.indented: # it's a parent\n",
    "                        b = tommorow_note.add(today_entry.text, today_entry.checked, gkeepapi.node.NewListItemPlacementValue.Bottom)\n",
    "                        \n",
    "                    else: # it's a child: if say today had a parent called \"BUSINESS\" and tommorow also has one already, then let's just append its children to that one\n",
    "                        \n",
    "                        tommorow_shared_parent_entry_index = -1\n",
    "                        appended_to_existing_parent = False\n",
    "                        for another_tommorow_entry in tommorow_note.items:\n",
    "                            tommorow_shared_parent_entry_index += 1\n",
    "                            \n",
    "                            if not another_tommorow_entry.indented: # we only care about finding the parents\n",
    "                                if another_tommorow_entry.text.lower() == today_entry.parent_item.text.lower():\n",
    "                                    b = tommorow_note.add(today_entry.text, checked=today_entry.checked, sort=tommorow_shared_parent_entry_index)\n",
    "                                    another_tommorow_entry.indent(b)\n",
    "                                    appended_to_existing_parent = True\n",
    "                                    break\n",
    "                        \n",
    "                            \n",
    "    \n",
    "    syncAndDump()"
   ]
  },
  {
   "cell_type": "markdown",
   "id": "0ab8d3f2-d7fa-4274-b986-6305c7a388e0",
   "metadata": {},
   "source": [
    "## Clone Today into Tommorow"
   ]
  },
  {
   "cell_type": "code",
   "execution_count": 13,
   "id": "063dabbd-56a4-4234-a5b6-8ad492e1cebf",
   "metadata": {},
   "outputs": [
    {
     "name": "stdout",
     "output_type": "stream",
     "text": [
      "Cloning from: THU 10 AUG\n",
      "found today's note\n",
      "tommorow's note already exists\n",
      "Syncing\n",
      "Dumping Sync\n"
     ]
    }
   ],
   "source": [
    "\n",
    "from_title = getDayTitle(days_into_the_future=-1) # 0 means today\n",
    "to_title = getDayTitle(days_into_the_future=0)\n",
    "to_title = \"SAMPLE DAY\"\n",
    "\n",
    "clone(from_title, to_title)"
   ]
  },
  {
   "cell_type": "markdown",
   "id": "52147f77-4695-43a6-8352-fa8f86b3f793",
   "metadata": {},
   "source": [
    "## Clone Sample into Tommorow"
   ]
  },
  {
   "cell_type": "code",
   "execution_count": 14,
   "id": "7c87b030-18f4-4e4e-8322-f486e84e03c5",
   "metadata": {},
   "outputs": [
    {
     "name": "stdout",
     "output_type": "stream",
     "text": [
      "Cloning from: SAMPLE DAY\n",
      "found today's note\n",
      "Syncing\n",
      "Dumping Sync\n"
     ]
    }
   ],
   "source": [
    "from_title = \"SAMPLE DAY\"\n",
    "to_title = getDayTitle(days_into_the_future=0)\n",
    "\n",
    "clone(from_title, to_title)"
   ]
  },
  {
   "cell_type": "markdown",
   "id": "5af0769f-8a22-4808-abf0-ea4115155e0e",
   "metadata": {},
   "source": [
    "## Sync & Dump"
   ]
  },
  {
   "cell_type": "code",
   "execution_count": 125,
   "id": "0547438e-b564-4e03-9884-caf6aacd24c4",
   "metadata": {},
   "outputs": [
    {
     "name": "stdout",
     "output_type": "stream",
     "text": [
      "Syncing\n",
      "Dumping Sync\n"
     ]
    }
   ],
   "source": [
    "syncAndDump()"
   ]
  },
  {
   "cell_type": "markdown",
   "id": "07f2c052-e79a-47b6-b2f3-3945c491afb2",
   "metadata": {},
   "source": [
    "## TO-DO\n",
    "- make a function that copies all unfinished notes from yesterday to today\n",
    "- make a function that puts unfinished tasks together all the notes from previous days together into a new general to do to note (only copy notes with emojis inside)"
   ]
  },
  {
   "cell_type": "code",
   "execution_count": null,
   "id": "a8125d98-364d-4324-b002-7e33c3b4d8f2",
   "metadata": {},
   "outputs": [],
   "source": []
  }
 ],
 "metadata": {
  "kernelspec": {
   "display_name": "Python 3 (ipykernel)",
   "language": "python",
   "name": "python3"
  },
  "language_info": {
   "codemirror_mode": {
    "name": "ipython",
    "version": 3
   },
   "file_extension": ".py",
   "mimetype": "text/x-python",
   "name": "python",
   "nbconvert_exporter": "python",
   "pygments_lexer": "ipython3",
   "version": "3.11.4"
  }
 },
 "nbformat": 4,
 "nbformat_minor": 5
}
